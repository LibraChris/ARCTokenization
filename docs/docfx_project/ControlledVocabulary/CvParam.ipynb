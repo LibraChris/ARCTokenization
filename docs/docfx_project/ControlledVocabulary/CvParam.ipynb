{
 "cells": [
  {
   "cell_type": "markdown",
   "metadata": {},
   "source": [
    "# CvParam"
   ]
  },
  {
   "cell_type": "code",
   "execution_count": 1,
   "metadata": {
    "dotnet_interactive": {
     "language": "fsharp"
    },
    "polyglot_notebook": {
     "kernelName": "fsharp"
    }
   },
   "outputs": [
    {
     "data": {
      "text/html": [
       "<div><div></div><div></div><div><strong>Installed Packages</strong><ul><li><span>ControlledVocabulary, 1.0.0</span></li></ul></div></div>"
      ]
     },
     "metadata": {},
     "output_type": "display_data"
    }
   ],
   "source": [
    "#r \"nuget: ControlledVocabulary, 1.0.0\""
   ]
  },
  {
   "cell_type": "markdown",
   "metadata": {},
   "source": [
    "`CvParam` is a value that is annotated with a controlled vocabulary term.\n",
    "\n",
    "Suppose we have the name of a person (`\"Kevin Schneider\"`).\n",
    "\n",
    "We can annotate this value with a term to indicate that it is a name:"
   ]
  },
  {
   "cell_type": "code",
   "execution_count": 7,
   "metadata": {
    "dotnet_interactive": {
     "language": "fsharp"
    },
    "polyglot_notebook": {
     "kernelName": "fsharp"
    }
   },
   "outputs": [
    {
     "data": {
      "text/plain": [
       "CvParam: Full Name\n",
       "\tID: TO:00042069\n",
       "\tRefUri: https://link/to/reference/vocabulary/named/TO\n",
       "\tValue: Value \"Kevin Schneider\"\n",
       "\tAttributes: []"
      ]
     },
     "metadata": {},
     "output_type": "display_data"
    }
   ],
   "source": [
    "open ControlledVocabulary\n",
    "\n",
    "let human =\n",
    "    CvTerm.create(\n",
    "        accession = \"TO:00042069\", // the term's unique accession number\n",
    "        name = \"Full Name\", // the term name\n",
    "        ref = \"https://link/to/reference/vocabulary/named/TO\" // the reference vocabulary\n",
    "    )\n",
    "\n",
    "let cvp = \n",
    "    CvParam(\n",
    "        cvTerm = human,\n",
    "        pv = ParamValue.Value \"Kevin Schneider\"\n",
    "    )\n",
    "\n",
    "cvp.ToString()"
   ]
  }
 ],
 "metadata": {
  "kernelspec": {
   "display_name": ".NET (F#)",
   "language": "F#",
   "name": ".net-fsharp"
  },
  "language_info": {
   "name": "polyglot-notebook"
  },
  "polyglot_notebook": {
   "kernelInfo": {
    "defaultKernelName": "fsharp",
    "items": [
     {
      "aliases": [],
      "languageName": "fsharp",
      "name": "fsharp"
     }
    ]
   }
  }
 },
 "nbformat": 4,
 "nbformat_minor": 2
}
