{
 "cells": [
  {
   "cell_type": "markdown",
   "metadata": {
    "dotnet_repl_cellExecutionStartTime": "2024-01-03T14:01:31.5046702+01:00",
    "dotnet_repl_cellExecutionEndTime": "2024-01-03T14:01:31.5267655+01:00"
   },
   "source": [
    "---\n",
    "\n",
    "title: Introduction\n",
    "\n",
    "category: ARCTokenization\n",
    "\n",
    "categoryindex: 2\n",
    "\n",
    "index: 1\n",
    "\n",
    "---\n",
    "\n",
    "# ARCTokenization\n",
    "\n"
   ]
  }
 ],
 "metadata": {
  "kernelspec": {
   "display_name": ".NET (F#)",
   "language": "F#",
   "name": ".net-fsharp"
  },
  "language_info": {
   "file_extension": ".fs",
   "mimetype": "text/x-fsharp",
   "name": "F#",
   "pygments_lexer": "fsharp",
   "version": "6.0"
  },
  "polyglot_notebook": {
   "defaultKernelName": "fsharp",
   "items": [
    {
     "name": "fsharp"
    }
   ]
  },
  "dotnet_interactive": {
   "defaultKernelName": "fsharp",
   "items": [
    {
     "name": "fsharp"
    }
   ]
  }
 },
 "nbformat": 4,
 "nbformat_minor": 5
}