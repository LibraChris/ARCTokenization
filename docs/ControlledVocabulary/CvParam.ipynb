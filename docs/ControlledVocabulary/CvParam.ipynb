{
 "cells": [
  {
   "cell_type": "markdown",
   "metadata": {
    "dotnet_repl_cellExecutionStartTime": "2024-01-03T14:01:32.9473996+01:00",
    "dotnet_repl_cellExecutionEndTime": "2024-01-03T14:01:32.9691789+01:00"
   },
   "source": [
    "---\n",
    "\n",
    "category: ControlledVocabulary\n",
    "\n",
    "categoryindex: 1\n",
    "\n",
    "index: 2\n",
    "\n",
    "---\n",
    "\n",
    "# CvParam"
   ]
  },
  {
   "cell_type": "code",
   "execution_count": null,
   "metadata": {
    "dotnet_repl_cellExecutionStartTime": "2024-01-03T14:01:32.9703093+01:00",
    "dotnet_repl_cellExecutionEndTime": "2024-01-03T14:01:36.4319344+01:00",
    "dotnet_interactive": {
     "language": "fsharp"
    },
    "polyglot_notebook": {
     "kernelName": "fsharp"
    }
   },
   "outputs": [
    {
     "data": {
      "text/html": [
       "<div><div></div><div><strong>Installing Packages</strong><ul><li><span>ControlledVocabulary</span></li></ul></div><div></div></div>"
      ]
     },
     "metadata": {},
     "output_type": "display_data"
    },
    {
     "data": {
      "text/html": [
       "<div><div></div><div><strong>Installing Packages</strong><ul><li><span>ControlledVocabulary.</span></li></ul></div><div></div></div>"
      ]
     },
     "metadata": {},
     "output_type": "display_data"
    },
    {
     "data": {
      "text/html": [
       "<div><div></div><div><strong>Installing Packages</strong><ul><li><span>ControlledVocabulary..</span></li></ul></div><div></div></div>"
      ]
     },
     "metadata": {},
     "output_type": "display_data"
    },
    {
     "data": {
      "text/html": [
       "<div><div></div><div></div><div><strong>Installed Packages</strong><ul><li><span>ControlledVocabulary, 1.0.1</span></li></ul></div></div>"
      ]
     },
     "metadata": {},
     "output_type": "display_data"
    }
   ],
   "source": [
    "#r \"nuget: ControlledVocabulary\""
   ]
  },
  {
   "cell_type": "markdown",
   "metadata": {
    "dotnet_repl_cellExecutionStartTime": "2024-01-03T14:01:36.4320438+01:00",
    "dotnet_repl_cellExecutionEndTime": "2024-01-03T14:01:36.4322926+01:00"
   },
   "source": [
    "`CvParam` is a value that is annotated with a controlled vocabulary term.\n",
    "\n",
    "Suppose we have the name of a person (`\"Kevin Schneider\"`).\n",
    "\n",
    "We can annotate this value with a term to indicate that it is a name:"
   ]
  },
  {
   "cell_type": "code",
   "execution_count": null,
   "metadata": {
    "dotnet_repl_cellExecutionStartTime": "2024-01-03T14:01:36.4323025+01:00",
    "dotnet_repl_cellExecutionEndTime": "2024-01-03T14:01:36.5805982+01:00",
    "dotnet_interactive": {
     "language": "fsharp"
    },
    "polyglot_notebook": {
     "kernelName": "fsharp"
    }
   },
   "outputs": [
    {
     "data": {
      "text/plain": [
       "\"CvParam: Full Name\n",
       "\tID: TO:00042069\n",
       "\tRefUri: https://link/to/reference/vocabulary/named/TO\n",
       "\tValue: Value \"Kevin Schneider\"\n",
       "\tAttributes: []\"\r\n"
      ]
     },
     "metadata": {},
     "output_type": "display_data"
    }
   ],
   "source": [
    "open ControlledVocabulary\n",
    "\n",
    "let human =\n",
    "    CvTerm.create(\n",
    "        accession = \"TO:00042069\", // the term's unique accession number\n",
    "        name = \"Full Name\", // the term name\n",
    "        ref = \"https://link/to/reference/vocabulary/named/TO\" // the reference vocabulary\n",
    "    )\n",
    "\n",
    "let cvp = \n",
    "    CvParam(\n",
    "        cvTerm = human,\n",
    "        pv = ParamValue.Value \"Kevin Schneider\"\n",
    "    )\n",
    "\n",
    "cvp.ToString()"
   ]
  }
 ],
 "metadata": {
  "kernelspec": {
   "display_name": ".NET (F#)",
   "language": "F#",
   "name": ".net-fsharp"
  },
  "language_info": {
   "file_extension": ".fs",
   "mimetype": "text/x-fsharp",
   "name": "F#",
   "pygments_lexer": "fsharp",
   "version": "6.0"
  },
  "polyglot_notebook": {
   "defaultKernelName": "fsharp",
   "items": [
    {
     "name": "fsharp"
    }
   ]
  },
  "dotnet_interactive": {
   "defaultKernelName": "fsharp",
   "items": [
    {
     "name": "fsharp"
    }
   ]
  }
 },
 "nbformat": 4,
 "nbformat_minor": 5
}