{
 "cells": [
  {
   "cell_type": "markdown",
   "metadata": {
    "dotnet_repl_cellExecutionStartTime": "2024-01-03T14:01:39.5727874+01:00",
    "dotnet_repl_cellExecutionEndTime": "2024-01-03T14:01:39.5950134+01:00"
   },
   "source": [
    "---\n",
    "\n",
    "category: ControlledVocabulary\n",
    "\n",
    "categoryindex: 1\n",
    "\n",
    "title: Introduction\n",
    "\n",
    "index: 1\n",
    "\n",
    "---\n",
    "# ControlledVocabulary\n",
    "\n",
    "ControlledVocabulary is a .NET library for modelling and working with controlled vocabularies."
   ]
  },
  {
   "cell_type": "code",
   "execution_count": null,
   "metadata": {
    "dotnet_repl_cellExecutionStartTime": "2024-01-03T14:01:39.5961426+01:00",
    "dotnet_repl_cellExecutionEndTime": "2024-01-03T14:01:43.0014709+01:00",
    "dotnet_interactive": {
     "language": "fsharp"
    },
    "polyglot_notebook": {
     "kernelName": "fsharp"
    }
   },
   "outputs": [
    {
     "data": {
      "text/html": [
       "<div><div></div><div><strong>Installing Packages</strong><ul><li><span>ControlledVocabulary</span></li></ul></div><div></div></div>"
      ]
     },
     "metadata": {},
     "output_type": "display_data"
    },
    {
     "data": {
      "text/html": [
       "<div><div></div><div><strong>Installing Packages</strong><ul><li><span>ControlledVocabulary.</span></li></ul></div><div></div></div>"
      ]
     },
     "metadata": {},
     "output_type": "display_data"
    },
    {
     "data": {
      "text/html": [
       "<div><div></div><div><strong>Installing Packages</strong><ul><li><span>ControlledVocabulary..</span></li></ul></div><div></div></div>"
      ]
     },
     "metadata": {},
     "output_type": "display_data"
    },
    {
     "data": {
      "text/html": [
       "<div><div></div><div></div><div><strong>Installed Packages</strong><ul><li><span>ControlledVocabulary, 1.0.1</span></li></ul></div></div>"
      ]
     },
     "metadata": {},
     "output_type": "display_data"
    }
   ],
   "source": [
    "#r \"nuget: ControlledVocabulary\""
   ]
  },
  {
   "cell_type": "markdown",
   "metadata": {
    "dotnet_repl_cellExecutionStartTime": "2024-01-03T14:01:43.0015818+01:00",
    "dotnet_repl_cellExecutionEndTime": "2024-01-03T14:01:43.0018194+01:00"
   },
   "source": [
    "In its barest form, a term from a controlled vocabulary consists of the term name itself, a URI for the term, and a reference to the controlled vocabulary that contains the term:"
   ]
  },
  {
   "cell_type": "code",
   "execution_count": null,
   "metadata": {
    "dotnet_repl_cellExecutionStartTime": "2024-01-03T14:01:43.0018298+01:00",
    "dotnet_repl_cellExecutionEndTime": "2024-01-03T14:01:43.1276945+01:00",
    "dotnet_interactive": {
     "language": "fsharp"
    },
    "polyglot_notebook": {
     "kernelName": "fsharp"
    }
   },
   "outputs": [
    {
     "data": {
      "text/html": [
       "<details open=\"open\" class=\"dni-treeview\"><summary><span class=\"dni-code-hint\"><code>{ Accession = &quot;TO:00042069&quot;\\n  Name = &quot;yup&quot;\\n  RefUri = &quot;https://link/to/reference/vocabulary/named/TO&quot; }</code></span></summary><div><table><thead><tr></tr></thead><tbody><tr><td>Accession</td><td><div class=\"dni-plaintext\"><pre>&quot;TO:00042069&quot;\r\n",
       "</pre></div></td></tr><tr><td>Name</td><td><div class=\"dni-plaintext\"><pre>&quot;yup&quot;\r\n",
       "</pre></div></td></tr><tr><td>RefUri</td><td><div class=\"dni-plaintext\"><pre>&quot;https://link/to/reference/vocabulary/named/TO&quot;\r\n",
       "</pre></div></td></tr></tbody></table></div></details><style>\r\n",
       ".dni-code-hint {\r\n",
       "    font-style: italic;\r\n",
       "    overflow: hidden;\r\n",
       "    white-space: nowrap;\r\n",
       "}\r\n",
       ".dni-treeview {\r\n",
       "    white-space: nowrap;\r\n",
       "}\r\n",
       ".dni-treeview td {\r\n",
       "    vertical-align: top;\r\n",
       "    text-align: start;\r\n",
       "}\r\n",
       "details.dni-treeview {\r\n",
       "    padding-left: 1em;\r\n",
       "}\r\n",
       "table td {\r\n",
       "    text-align: start;\r\n",
       "}\r\n",
       "table tr { \r\n",
       "    vertical-align: top; \r\n",
       "    margin: 0em 0px;\r\n",
       "}\r\n",
       "table tr td pre \r\n",
       "{ \r\n",
       "    vertical-align: top !important; \r\n",
       "    margin: 0em 0px !important;\r\n",
       "} \r\n",
       "table th {\r\n",
       "    text-align: start;\r\n",
       "}\r\n",
       "</style>"
      ]
     },
     "metadata": {},
     "output_type": "display_data"
    }
   ],
   "source": [
    "open ControlledVocabulary\n",
    "\n",
    "CvTerm.create(\n",
    "    accession = \"TO:00042069\", // the term's unique accession number\n",
    "    name = \"yup\", // the term name\n",
    "    ref = \"https://link/to/reference/vocabulary/named/TO\" // the reference vocabulary\n",
    ")"
   ]
  }
 ],
 "metadata": {
  "kernelspec": {
   "display_name": ".NET (F#)",
   "language": "F#",
   "name": ".net-fsharp"
  },
  "language_info": {
   "file_extension": ".fs",
   "mimetype": "text/x-fsharp",
   "name": "F#",
   "pygments_lexer": "fsharp",
   "version": "6.0"
  },
  "polyglot_notebook": {
   "defaultKernelName": "fsharp",
   "items": [
    {
     "name": "fsharp"
    }
   ]
  },
  "dotnet_interactive": {
   "defaultKernelName": "fsharp",
   "items": [
    {
     "name": "fsharp"
    }
   ]
  }
 },
 "nbformat": 4,
 "nbformat_minor": 5
}