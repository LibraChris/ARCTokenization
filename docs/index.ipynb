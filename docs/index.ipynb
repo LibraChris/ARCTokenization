{
 "cells": [
  {
   "cell_type": "markdown",
   "metadata": {
    "dotnet_repl_cellExecutionEndTime": "2024-01-03T14:01:29.7581085+01:00",
    "dotnet_repl_cellExecutionStartTime": "2024-01-03T14:01:29.7359431+01:00"
   },
   "source": [
    "# ARCTokenization\n",
    "\n",
    "this is the home of the documentation for 2 libraries:\n",
    "\n",
    "- [ControlledVocabulary](./ControlledVocabulary/Introduction.html) - a .NET library for modelling and working with controlled vocabularies.\n",
    "- [ARCTokenization](./ARCTokenization/Introduction.html) - a .NET library for parsing Research metadata formatted as Annotated Research Contexts ([ARCs](https://github.com/nfdi4plants/ARC-specification)) as tokens of a controlled structural vocabulary."
   ]
  }
 ],
 "metadata": {
  "dotnet_interactive": {
   "defaultKernelName": "fsharp",
   "items": [
    {
     "name": "fsharp"
    }
   ]
  },
  "kernelspec": {
   "display_name": ".NET (F#)",
   "language": "F#",
   "name": ".net-fsharp"
  },
  "language_info": {
   "file_extension": ".fs",
   "mimetype": "text/x-fsharp",
   "name": "F#",
   "pygments_lexer": "fsharp",
   "version": "6.0"
  },
  "polyglot_notebook": {
   "defaultKernelName": "fsharp",
   "items": [
    {
     "name": "fsharp"
    }
   ]
  }
 },
 "nbformat": 4,
 "nbformat_minor": 5
}
